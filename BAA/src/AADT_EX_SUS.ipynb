{
 "cells": [
  {
   "cell_type": "code",
   "execution_count": 1,
   "metadata": {
    "collapsed": true
   },
   "outputs": [],
   "source": [
    "from utility import db_connect, query2csv\n",
    "from settings import  DBNAME, DBPASS, DBUSER, DBHOST"
   ]
  },
  {
   "cell_type": "code",
   "execution_count": 2,
   "metadata": {
    "collapsed": false
   },
   "outputs": [
    {
     "data": {
      "text/html": [
       "<h1>Result</h1><a href='./aadt-ex-sus.csv?download=1' target='_blank'>aadt-ex-sus.csv</a>"
      ],
      "text/plain": [
       "<IPython.core.display.HTML object>"
      ]
     },
     "metadata": {},
     "output_type": "display_data"
    }
   ],
   "source": [
    "qsql=\"\"\"\n",
    "with d as (\n",
    "  select generate_series(0,6) as dayofweek\n",
    "),\n",
    "m as (\n",
    "  select generate_series(1,12) as month\n",
    "),\n",
    "-- v_ijmy:Compute an average by day of week for each month.\n",
    "v_ijmy as (\n",
    "  select \n",
    "      baadv.analysis_area_id,\n",
    "      to_char(baadv.date, 'YYYY') as year,\n",
    "      avg(baadv.volume)::bigint as volume_i,\n",
    "      avg(baadv.volume) as volume,\n",
    "      d.dayofweek,\n",
    "      m.month\n",
    "  from\n",
    "      baa_ex_sus.analysis_areas_daily_volume as baadv,\n",
    "      d,\n",
    "      m\n",
    "  where     \n",
    "      extract(dow from baadv.date) in (d.dayofweek)  \n",
    "      AND date_part('month', baadv.date) = m.month\n",
    "      group by baadv.analysis_area_id, year, d.dayofweek, m.month       \n",
    "),\n",
    "-- madt: average volume each month, each year for sites\n",
    "madt as (  \n",
    "  select \n",
    "      analysis_area_id,\n",
    "      month,\n",
    "      year,\n",
    "      avg(volume)::bigint as volume_i,\n",
    "      avg(volume) as volume\n",
    "  from \n",
    "      v_ijmy\n",
    "      group by analysis_area_id, year, month\n",
    "      having count(dayofweek)=7 -- having 7 days of data\n",
    "),\n",
    "-- AADT: average volume count each year for sites\n",
    "AADT_DATA as (\n",
    "select \n",
    "  analysis_area_id, \n",
    "  year,\n",
    "  avg(volume)::bigint as AADT_i,\n",
    "  round(avg(volume), 2) as AADT\n",
    "from madt\n",
    "  group by analysis_area_id, year\n",
    "  having count(month) = 12\n",
    ")\n",
    "select\n",
    " ad.*,\n",
    " baas.analysis_area_name,\n",
    " baas.mode\n",
    "from \n",
    "   AADT_DATA as ad inner join baa.analysis_areas as baas using(analysis_area_id)\n",
    "   order by 1,2\n",
    "\"\"\"\n",
    "csvfile='aadt-ex-sus.csv'\n",
    "query2csv(qsql,csvfile)"
   ]
  }
 ],
 "metadata": {
  "kernelspec": {
   "display_name": "Python 3",
   "language": "python",
   "name": "python3"
  },
  "language_info": {
   "codemirror_mode": {
    "name": "ipython",
    "version": 3
   },
   "file_extension": ".py",
   "mimetype": "text/x-python",
   "name": "python",
   "nbconvert_exporter": "python",
   "pygments_lexer": "ipython3",
   "version": "3.4.3"
  }
 },
 "nbformat": 4,
 "nbformat_minor": 1
}
