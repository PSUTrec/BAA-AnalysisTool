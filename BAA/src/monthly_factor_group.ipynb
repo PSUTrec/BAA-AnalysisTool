{
 "cells": [
  {
   "cell_type": "code",
   "execution_count": 1,
   "metadata": {
    "collapsed": true
   },
   "outputs": [],
   "source": [
    "from utility import db_connect, query2csv\n",
    "from settings import  DBNAME, DBPASS, DBUSER, DBHOST"
   ]
  },
  {
   "cell_type": "code",
   "execution_count": 2,
   "metadata": {
    "collapsed": false
   },
   "outputs": [
    {
     "data": {
      "text/html": [
       "<h1>Result</h1><a href='./city_mode_group.csv?download=1' target='_blank'>city_mode_group.csv</a>"
      ],
      "text/plain": [
       "<IPython.core.display.HTML object>"
      ]
     },
     "metadata": {},
     "output_type": "display_data"
    }
   ],
   "source": [
    "qsql=\"\"\"\n",
    "select \n",
    "  ar.analysis_area_name as city,\n",
    "  aa.mode,\n",
    "  array_agg(analysis_area_id order by analysis_area_id) as analysis_area_id_list\n",
    "from\n",
    "baa.analysis_area_regions as ar,\n",
    "baa.analysis_areas as aa\n",
    "where ar.analysis_area_regions_id = aa.analysis_area_regions_id\n",
    "group by 1,2\n",
    "\"\"\"\n",
    "csvfile='city_mode_group.csv'\n",
    "query2csv(qsql,csvfile)"
   ]
  },
  {
   "cell_type": "markdown",
   "metadata": {},
   "source": [
    "### Create monthly city mode factor group table\n",
    "\n",
    "```sql\n",
    "CREATE TABLE baa_ex_sus.fg_city_mode_monthly\n",
    "(\n",
    "  city character varying(50) NOT NULL,\n",
    "  mode baa.bp_mode NOT NULL,\n",
    "  analysis_area_id_list integer[]\n",
    ")\n",
    "```\n",
    "### Populate monthly city mode factor group table\n",
    "\n",
    "```sql\n",
    "insert into baa_ex_sus.fg_city_mode_monthly(\n",
    "with city_mode_group as (\n",
    "select \n",
    "  ar.analysis_area_name as city,\n",
    "  aa.mode,\n",
    "  array_agg(analysis_area_id order by analysis_area_id) as analysis_area_id_list\n",
    "from\n",
    "baa.analysis_area_regions as ar,\n",
    "baa.analysis_areas as aa\n",
    "where ar.analysis_area_regions_id = aa.analysis_area_regions_id\n",
    "group by 1,2\n",
    ")\n",
    "```"
   ]
  },
  {
   "cell_type": "code",
   "execution_count": 3,
   "metadata": {
    "collapsed": false
   },
   "outputs": [
    {
     "data": {
      "text/html": [
       "<h1>Result</h1><a href='./fg_city_mode_monthly.csv?download=1' target='_blank'>fg_city_mode_monthly.csv</a>"
      ],
      "text/plain": [
       "<IPython.core.display.HTML object>"
      ]
     },
     "metadata": {},
     "output_type": "display_data"
    }
   ],
   "source": [
    "qsql=\"\"\"\n",
    "select * from baa_ex_sus.fg_city_mode_monthly\n",
    "\"\"\"\n",
    "csvfile='fg_city_mode_monthly.csv'\n",
    "query2csv(qsql,csvfile)"
   ]
  },
  {
   "cell_type": "code",
   "execution_count": 4,
   "metadata": {
    "collapsed": false
   },
   "outputs": [
    {
     "data": {
      "text/html": [
       "<h1>Result</h1><a href='./monthly_madt_exclude_holiday_ex_sus.csv?download=1' target='_blank'>monthly_madt_exclude_holiday_ex_sus.csv</a>"
      ],
      "text/plain": [
       "<IPython.core.display.HTML object>"
      ]
     },
     "metadata": {},
     "output_type": "display_data"
    }
   ],
   "source": [
    "qsql=\"\"\"\n",
    "with d as (\n",
    "  select generate_series(0,6) as dayofweek\n",
    "),\n",
    "m as (\n",
    "  select generate_series(1,12) as month\n",
    "),\n",
    "-- daily_exclude_holiday: daily counts for sites excluding holidays\n",
    "daily_exclude_holiday as (\n",
    "select\n",
    " baaad.analysis_area_id,\n",
    " baaad.date,\n",
    " baaad.volume,\n",
    " date_part('month', baaad.date) as month,\n",
    " date_part('dow', baaad.date) as dow\n",
    "from\n",
    "  baa_ex_sus.analysis_areas_daily_volume as baaad\n",
    "  left join baa.holidays as baahd on baaad.date::date = baahd.holiday_date\n",
    "where\n",
    "  baahd.holiday_id is null\n",
    "  group by 1,2,3\n",
    "),\n",
    "V_jmyl_exclude_holiday as (\n",
    "  select\n",
    "      baadv.analysis_area_id,\n",
    "      to_char(baadv.date, 'YYYY') as year,\n",
    "      avg(baadv.volume) as volume,\n",
    "      d.dayofweek,\n",
    "      m.month\n",
    "  from\n",
    "      daily_exclude_holiday as baadv,\n",
    "      d,\n",
    "      m\n",
    "  where     \n",
    "      extract(dow from baadv.date) in (d.dayofweek)  \n",
    "      AND date_part('month', baadv.date) = m.month\n",
    "      group by baadv.analysis_area_id, year, d.dayofweek, m.month       \n",
    "),\n",
    "monthly_madt_exclude_holiday as (  \n",
    "  select\n",
    "      month,\n",
    "      year,\n",
    "      analysis_area_id,\n",
    "      avg(volume) as madt\n",
    "  from\n",
    "      V_jmyl_exclude_holiday\n",
    "      group by analysis_area_id, year, month\n",
    "      having count(dayofweek)=7 -- having 7 days of data each week\n",
    ")\n",
    "select analysis_area_id, year, month, madt from monthly_madt_exclude_holiday\n",
    "order by 1,2,3\n",
    "\"\"\"\n",
    "csvfile='monthly_madt_exclude_holiday_ex_sus.csv'\n",
    "query2csv(qsql,csvfile)"
   ]
  },
  {
   "cell_type": "code",
   "execution_count": 5,
   "metadata": {
    "collapsed": false
   },
   "outputs": [
    {
     "data": {
      "text/html": [
       "<h1>Result</h1><a href='./monthly_factor_ex_sus.csv?download=1' target='_blank'>monthly_factor_ex_sus.csv</a>"
      ],
      "text/plain": [
       "<IPython.core.display.HTML object>"
      ]
     },
     "metadata": {},
     "output_type": "display_data"
    }
   ],
   "source": [
    "qsql=\"\"\"\n",
    "with d as (\n",
    "  select generate_series(0,6) as dayofweek\n",
    "),\n",
    "m as (\n",
    "  select generate_series(1,12) as month\n",
    "),\n",
    "V_jmyl as (\n",
    "  select\n",
    "      baadv.analysis_area_id,\n",
    "      to_char(baadv.date, 'YYYY') as year,\n",
    "      avg(baadv.volume)::bigint as volume_i,\n",
    "      avg(baadv.volume) as volume,\n",
    "      d.dayofweek,\n",
    "      m.month\n",
    "  from\n",
    "      baa_ex_sus.analysis_areas_daily_volume as baadv,\n",
    "      d,\n",
    "      m\n",
    "  where     \n",
    "      extract(dow from baadv.date) in (d.dayofweek)  \n",
    "      AND date_part('month', baadv.date) = m.month\n",
    "      group by baadv.analysis_area_id, year, d.dayofweek, m.month       \n",
    "  ),\n",
    "madt as (  \n",
    "  select\n",
    "      month,\n",
    "      year,\n",
    "      analysis_area_id,\n",
    "      avg(volume)::bigint as volume_i,\n",
    "      avg(volume) as volume\n",
    "  from\n",
    "      v_jmyl\n",
    "      group by analysis_area_id, year, month\n",
    "      having count(dayofweek)=7 -- having 7 days of data each week\n",
    "),\n",
    "aadt as (\n",
    "select\n",
    "  analysis_area_id,\n",
    "  year,\n",
    "  avg(volume)::bigint as AADT_i,\n",
    "  round(avg(volume), 2) as AADT\n",
    "from madt\n",
    "  group by analysis_area_id, year\n",
    "  having count(month) = 12 -- having 12 months of data\n",
    "),\n",
    "-- daily_exclude_holiday: daily counts for sites excluding holidays\n",
    "daily_exclude_holiday as (\n",
    "select\n",
    " baaad.analysis_area_id,\n",
    " baaad.date,\n",
    " baaad.volume,\n",
    " date_part('month', baaad.date) as month,\n",
    " date_part('dow', baaad.date) as dow\n",
    "from\n",
    "  baa_ex_sus.analysis_areas_daily_volume as baaad\n",
    "  left join baa.holidays as baahd on baaad.date::date = baahd.holiday_date\n",
    "where\n",
    "  baahd.holiday_id is null\n",
    "  group by 1,2,3\n",
    "),\n",
    "V_jmyl_exclude_holiday as (\n",
    "  select\n",
    "      baadv.analysis_area_id,\n",
    "      to_char(baadv.date, 'YYYY') as year,\n",
    "      avg(baadv.volume) as volume,\n",
    "      d.dayofweek,\n",
    "      m.month\n",
    "  from\n",
    "      daily_exclude_holiday as baadv,\n",
    "      d,\n",
    "      m\n",
    "  where     \n",
    "      extract(dow from baadv.date) in (d.dayofweek)  \n",
    "      AND date_part('month', baadv.date) = m.month\n",
    "      group by baadv.analysis_area_id, year, d.dayofweek, m.month       \n",
    "),\n",
    "monthly_madt_exclude_holiday as (  \n",
    "  select\n",
    "      month,\n",
    "      year,\n",
    "      analysis_area_id,\n",
    "      avg(volume) as madt\n",
    "  from\n",
    "      V_jmyl_exclude_holiday\n",
    "      group by analysis_area_id, year, month\n",
    "      having count(dayofweek)=7 -- having 7 days of data each week\n",
    "),\n",
    "fm as (\n",
    "select\n",
    "  madt_nh.analysis_area_id,\n",
    "  madt_nh.month,\n",
    "  madt_nh.year,\n",
    "  round(madt_nh.madt/aadt.aadt::numeric,2) as fm\n",
    "from\n",
    "  monthly_madt_exclude_holiday as madt_nh inner join aadt using(analysis_area_id, year)\n",
    "where\n",
    "  aadt.aadt <> 0  \n",
    ")\n",
    "select * from fm\n",
    "order by 1,3,2\n",
    "\"\"\"\n",
    "csvfile='monthly_factor_ex_sus.csv'\n",
    "query2csv(qsql,csvfile)"
   ]
  },
  {
   "cell_type": "code",
   "execution_count": 6,
   "metadata": {
    "collapsed": false
   },
   "outputs": [
    {
     "data": {
      "text/html": [
       "<h1>Result</h1><a href='./monthly_factor_group_ex_sus.csv?download=1' target='_blank'>monthly_factor_group_ex_sus.csv</a>"
      ],
      "text/plain": [
       "<IPython.core.display.HTML object>"
      ]
     },
     "metadata": {},
     "output_type": "display_data"
    }
   ],
   "source": [
    "qsql=\"\"\"\n",
    "with d as (\n",
    "  select generate_series(0,6) as dayofweek\n",
    "),\n",
    "m as (\n",
    "  select generate_series(1,12) as month\n",
    "),\n",
    "V_jmyl as (\n",
    "  select\n",
    "      baadv.analysis_area_id,\n",
    "      to_char(baadv.date, 'YYYY') as year,\n",
    "      avg(baadv.volume)::bigint as volume_i,\n",
    "      avg(baadv.volume) as volume,\n",
    "      d.dayofweek,\n",
    "      m.month\n",
    "  from\n",
    "      baa_ex_sus.analysis_areas_daily_volume as baadv,\n",
    "      d,\n",
    "      m\n",
    "  where     \n",
    "      extract(dow from baadv.date) in (d.dayofweek)  \n",
    "      AND date_part('month', baadv.date) = m.month\n",
    "      group by baadv.analysis_area_id, year, d.dayofweek, m.month       \n",
    "  ),\n",
    "madt as (  \n",
    "  select\n",
    "      month,\n",
    "      year,\n",
    "      analysis_area_id,\n",
    "      avg(volume)::bigint as volume_i,\n",
    "      avg(volume) as volume\n",
    "  from\n",
    "      v_jmyl\n",
    "      group by analysis_area_id, year, month\n",
    "      having count(dayofweek)=7 -- having 7 days of data each week\n",
    "),\n",
    "aadt as (\n",
    "select\n",
    "  analysis_area_id,\n",
    "  year,\n",
    "  avg(volume)::bigint as AADT_i,\n",
    "  round(avg(volume), 2) as AADT\n",
    "from madt\n",
    "  group by analysis_area_id, year\n",
    "  having count(month) = 12 -- having 12 months of data\n",
    "),\n",
    "-- daily_exclude_holiday: daily counts for sites excluding holidays\n",
    "daily_exclude_holiday as (\n",
    "select\n",
    " baaad.analysis_area_id,\n",
    " baaad.date,\n",
    " baaad.volume,\n",
    " date_part('month', baaad.date) as month,\n",
    " date_part('dow', baaad.date) as dow\n",
    "from\n",
    "  baa_ex_sus.analysis_areas_daily_volume as baaad\n",
    "  left join baa.holidays as baahd on baaad.date::date = baahd.holiday_date\n",
    "where\n",
    "  baahd.holiday_id is null\n",
    "  group by 1,2,3\n",
    "),\n",
    "V_jmyl_exclude_holiday as (\n",
    "  select\n",
    "      baadv.analysis_area_id,\n",
    "      to_char(baadv.date, 'YYYY') as year,\n",
    "      avg(baadv.volume) as volume,\n",
    "      d.dayofweek,\n",
    "      m.month\n",
    "  from\n",
    "      daily_exclude_holiday as baadv,\n",
    "      d,\n",
    "      m\n",
    "  where     \n",
    "      extract(dow from baadv.date) in (d.dayofweek)  \n",
    "      AND date_part('month', baadv.date) = m.month\n",
    "      group by baadv.analysis_area_id, year, d.dayofweek, m.month       \n",
    "),\n",
    "monthly_madt_exclude_holiday as (  \n",
    "  select\n",
    "      month,\n",
    "      year,\n",
    "      analysis_area_id,\n",
    "      avg(volume) as madt\n",
    "  from\n",
    "      V_jmyl_exclude_holiday\n",
    "      group by analysis_area_id, year, month\n",
    "      having count(dayofweek)=7 -- having 7 days of data each week\n",
    "),\n",
    "fm as (\n",
    "select\n",
    "  madt_nh.analysis_area_id,\n",
    "  madt_nh.month,\n",
    "  madt_nh.year,\n",
    "  round(madt_nh.madt/aadt.aadt::numeric,2) as fm\n",
    "from\n",
    "  monthly_madt_exclude_holiday as madt_nh inner join aadt using(analysis_area_id, year)\n",
    "where\n",
    "  aadt.aadt <> 0  \n",
    "),\n",
    "city_mode_group as (\n",
    "select \n",
    "  ar.analysis_area_name as city,\n",
    "  aa.mode,\n",
    "  array_agg(analysis_area_id order by analysis_area_id) as analysis_area_id_list\n",
    "from\n",
    "  baa.analysis_area_regions as ar,\n",
    "  baa.analysis_areas as aa\n",
    "where ar.analysis_area_regions_id = aa.analysis_area_regions_id\n",
    "  group by 1,2  \n",
    ")  \n",
    "select\n",
    "  cmg.city,\n",
    "  cmg.mode,\n",
    "  cmg.analysis_area_id_list,\n",
    "  fm.month,\n",
    "  fm.year,\n",
    "  round(avg(fm.fm), 2) as fm_cmp\n",
    " \n",
    "from\n",
    "fm inner join city_mode_group as cmg\n",
    "on fm.analysis_area_id = Any(cmg.analysis_area_id_list::int[])\n",
    "group by 1,2,3,5,4\n",
    "order by 1,2,3,5,4\n",
    "\"\"\"\n",
    "csvfile='monthly_factor_group_ex_sus.csv'\n",
    "query2csv(qsql,csvfile)"
   ]
  }
 ],
 "metadata": {
  "kernelspec": {
   "display_name": "Python 3",
   "language": "python",
   "name": "python3"
  },
  "language_info": {
   "codemirror_mode": {
    "name": "ipython",
    "version": 3
   },
   "file_extension": ".py",
   "mimetype": "text/x-python",
   "name": "python",
   "nbconvert_exporter": "python",
   "pygments_lexer": "ipython3",
   "version": "3.4.3"
  }
 },
 "nbformat": 4,
 "nbformat_minor": 1
}
