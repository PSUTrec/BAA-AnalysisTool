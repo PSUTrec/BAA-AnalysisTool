{
 "cells": [
  {
   "cell_type": "markdown",
   "metadata": {},
   "source": [
    "# Phase II - Tool Creation\n",
    "## Document database\n",
    "### Bike-Ped metadata tables\n",
    "\n",
    "![Figure 1. Bike-Ped tables](/opt/app/src/AnalysisTools/bikepeddb.png)"
   ]
  },
  {
   "cell_type": "markdown",
   "metadata": {},
   "source": [
    "\n",
    "## Site Grouping Module\n",
    "### Choose a region\n",
    "- listing existing regions in the database"
   ]
  },
  {
   "cell_type": "code",
   "execution_count": 4,
   "metadata": {
    "collapsed": false,
    "scrolled": true
   },
   "outputs": [
    {
     "data": {
      "text/html": [
       "<h1>Result</h1><a href='./analysis_area_regions.csv?download=1' target='_blank'>analysis_area_regions.csv</a>"
      ],
      "text/plain": [
       "<IPython.core.display.HTML object>"
      ]
     },
     "metadata": {},
     "output_type": "display_data"
    }
   ],
   "source": [
    "from utility import db_connect, query2csv\n",
    "from settings import  DBNAME, DBPASS, DBUSER, DBHOST\n",
    "\n",
    "qsql=\"\"\"\n",
    "select analysis_area_regions_id, analysis_area_name\n",
    "from baa.analysis_area_regions\n",
    "\"\"\"\n",
    "result_csv='analysis_area_regions.csv'\n",
    "query2csv(qsql,result_csv)"
   ]
  },
  {
   "cell_type": "markdown",
   "metadata": {},
   "source": [
    "### Analysis tables\n",
    "\n",
    "![Figure 2. Analysis area tables](/opt/app/src/AnalysisTools/site_grouping_module.png)\n"
   ]
  },
  {
   "cell_type": "markdown",
   "metadata": {},
   "source": [
    "- If user is choosing a flow detector in a region not yet in the analysis_area_regions table, we need to create that region first.\n",
    " - Assume the new region is San Francisco, we will either create a new one or retrieve its ID if it is in the database already."
   ]
  },
  {
   "cell_type": "code",
   "execution_count": 4,
   "metadata": {
    "collapsed": false
   },
   "outputs": [
    {
     "name": "stdout",
     "output_type": "stream",
     "text": [
      "region id for San Francisco is 7\n"
     ]
    }
   ],
   "source": [
    "from utility import db_connect, query2csv\n",
    "from settings import  DBNAME, DBPASS, DBUSER, DBHOST\n",
    "\n",
    "def get_or_create_analysis_region(region_name):\n",
    "    get_query = \"\"\"\n",
    "        select\n",
    "          analysis_area_regions_id\n",
    "        from\n",
    "          baa.analysis_area_regions\n",
    "        where\n",
    "          analysis_area_name = '{0}'\n",
    "    \"\"\".format(region_name)\n",
    "\n",
    "    cols = 'analysis_area_name'\n",
    "    place_holder = '%s'\n",
    "    query_str = \"\"\"insert into baa.analysis_area_regions({0}) values ({1}) \n",
    "    RETURNING analysis_area_regions_id\"\"\".format(cols, place_holder)\n",
    "    conn = db_connect()\n",
    "    with conn:\n",
    "        with conn.cursor() as curs:\n",
    "            curs.execute(get_query)\n",
    "            rows = curs.fetchall()\n",
    "            if(len(rows) == 1):\n",
    "                return rows[0][0]\n",
    "            \n",
    "            curs.execute(query_str,(\n",
    "                 region_name,\n",
    "            ))\n",
    "            res = curs.fetchone()\n",
    "            last_inserted_region_id = res[0]\n",
    "    return last_inserted_region_id\n",
    "\n",
    "region_name='San Francisco'\n",
    "region_id = get_or_create_analysis_region(region_name)\n",
    "print('region id for {0} is {1}'.format(region_name, region_id))"
   ]
  },
  {
   "cell_type": "markdown",
   "metadata": {},
   "source": [
    "### Select a set of flow detectors as an analysis area\n",
    "#### Inputs for the selection of an analysis area\n",
    "- a region\n",
    "- choose a mode which would be one of bicycle, pedestrian, or bike-ped-combined\n",
    " - function **get_flow_detector_by_mode** to get list of flow detectors based on mode"
   ]
  },
  {
   "cell_type": "code",
   "execution_count": 25,
   "metadata": {
    "collapsed": false
   },
   "outputs": [],
   "source": [
    "def get_flow_detector_by_mode(is_bike, is_ped):\n",
    "    get_query = \"\"\"\n",
    "        select flow_detector_id from\n",
    "        bike_ped.flow_detectors where flow_id in (\n",
    "        select \n",
    "          flow_id\n",
    "        from \n",
    "          bike_ped.flows\n",
    "        where\n",
    "          bicycle = %s\n",
    "          and pedestrian = %s\n",
    "        )   \n",
    "    \"\"\"\n",
    "\n",
    "    conn = db_connect()\n",
    "    with conn:\n",
    "        with conn.cursor() as curs:\n",
    "            curs.execute(get_query, (is_bike, is_ped))\n",
    "            rows = curs.fetchall()\n",
    "            return [row[0] for row in rows]"
   ]
  },
  {
   "cell_type": "markdown",
   "metadata": {},
   "source": [
    "   - function usuage"
   ]
  },
  {
   "cell_type": "code",
   "execution_count": 26,
   "metadata": {
    "collapsed": false,
    "scrolled": true
   },
   "outputs": [],
   "source": [
    "# return all flow detectors of bicycle mode\n",
    "flow_detector_list_bicycle = get_flow_detector_by_mode(True, False)\n",
    "# return all flow detectors of pedestrian mode\n",
    "flow_detector_list_pedestrian = get_flow_detector_by_mode(False, True)\n",
    "# return all flow detectors of bike_ped_combined mode\n",
    "flow_detector_list_bike_ped_combined=get_flow_detector_by_mode(True, True)"
   ]
  },
  {
   "cell_type": "markdown",
   "metadata": {},
   "source": [
    "- a set of flow detectors that satisfy above two requirements\n",
    "- if such analysis area exist return its ID other wise create one and return the ID"
   ]
  },
  {
   "cell_type": "markdown",
   "metadata": {
    "collapsed": true
   },
   "source": [
    "### Get or create an analysis area\n",
    "- Assume our region is **Portland**\n",
    "- Assume the mode for the analysis area is **bicycle**\n",
    "- List all flow detectors satisfy above assumptions"
   ]
  },
  {
   "cell_type": "code",
   "execution_count": 28,
   "metadata": {
    "collapsed": false
   },
   "outputs": [],
   "source": [
    "from utility import db_connect, query2csv\n",
    "from settings import  DBNAME, DBPASS, DBUSER, DBHOST\n",
    "\n",
    "qsql=\"\"\"\n",
    "select \n",
    "  analysis_area_id,\n",
    "  analysis_area_name,\n",
    "  mode,\n",
    "  flow_detector_list, \n",
    "  analysis_area_regions_id\n",
    "from \n",
    "  baa.analysis_areas\n",
    "where \n",
    "  analysis_area_regions_id in \n",
    "      (select analysis_area_regions_id\n",
    "       from baa.analysis_area_regions\n",
    "       where analysis_area_name = 'Portland')\n",
    "  and mode = 'bicycle'\n",
    "\"\"\"\n",
    "csvfile='analysis_areas_bicycle_Portland.csv'\n",
    "query2csv(qsql,csvfile)"
   ]
  },
  {
   "cell_type": "markdown",
   "metadata": {},
   "source": [
    "### Function to group a site: get_or_create_analysis_area\n",
    "- User selected flow detector **1293** and **1295** at **Woodland Trail E of Fones Rd SE**\n",
    " - We will call the function **get_or_create_analysis_area** with following inputs\n",
    "   - region: **San Diago**\n",
    "   - mode: **bicycle**\n",
    "   - flow_detector_list array: **(1293, 1295)**, should be among return list of flow detectors from function **get_flow_detector_by_mode(is_bike=True, is_ped=False)**\n",
    "   - analysis area name: **SD-Woodland-Trail-E-Fones-Rd-SE**\n",
    " - The function will return an analysis area ID either existed in the database or newly created"
   ]
  },
  {
   "cell_type": "code",
   "execution_count": 30,
   "metadata": {
    "collapsed": false
   },
   "outputs": [
    {
     "name": "stdout",
     "output_type": "stream",
     "text": [
      "The analysis_area_id for \"San Diago\", mode:bicycle and \n",
      "flow detectors:1293,1295 is 233\n"
     ]
    }
   ],
   "source": [
    "from utility import db_connect, query2csv\n",
    "from settings import  DBNAME, DBPASS, DBUSER, DBHOST\n",
    "\n",
    "def get_or_create_analysis_area(region_name, region_id, mode, \n",
    "                                flow_detector_list, analysis_area_name):\n",
    "    get_query = \"\"\"\n",
    "        select \n",
    "          analysis_area_id \n",
    "        from \n",
    "          baa.analysis_areas\n",
    "        where\n",
    "          flow_detector_list = %s\n",
    "          and mode = %s\n",
    "          and analysis_area_regions_id = \n",
    "          ( select \n",
    "              analysis_area_regions_id \n",
    "            from\n",
    "              baa.analysis_area_regions\n",
    "            where analysis_area_name = %s\n",
    "          )  \n",
    "    \"\"\"\n",
    "\n",
    "    cols='mode,analysis_area_name,flow_detector_list,analysis_area_regions_id'\n",
    "    place_holder = '%s::baa.bp_mode, %s, %s::integer[],%s'\n",
    "    query_str = \"\"\"insert into baa.analysis_areas ({0}) values ({1}) \n",
    "    RETURNING analysis_area_id\"\"\".format(cols, place_holder)\n",
    "    conn = db_connect()\n",
    "    with conn:\n",
    "        with conn.cursor() as curs:\n",
    "            curs.execute(get_query, (flow_detector_list,mode,region_name))\n",
    "            rows = curs.fetchall()\n",
    "            if(len(rows) == 1):\n",
    "                return rows[0][0]\n",
    "            curs.execute(query_str,(\n",
    "                 mode,\n",
    "                 analysis_area_name,\n",
    "                 flow_detector_list,   \n",
    "                 region_id,   \n",
    "            ))\n",
    "            res = curs.fetchone()\n",
    "            last_inserted_region_id = res[0]\n",
    "    return last_inserted_region_id            \n",
    "\n",
    "region_name='San Diago'\n",
    "region_id = 3\n",
    "mode = 'bicycle'\n",
    "flow_detector_list = [1293,1295]\n",
    "analysis_area_name = 'SD-Woodland-Trail-E-Fones-Rd-SE'\n",
    "analysis_area_id =get_or_create_analysis_area(region_name, \n",
    "                                              region_id, mode, \n",
    "                                              flow_detector_list, \n",
    "                                              analysis_area_name)\n",
    "print('The analysis_area_id for \"%s\", mode:%s and \\nflow detectors:%s is %d' \n",
    "      % (region_name, mode, ','.join(str(x) for x in flow_detector_list),\n",
    "        analysis_area_id))"
   ]
  },
  {
   "cell_type": "markdown",
   "metadata": {},
   "source": [
    "### get aggregated daily volume of analysis area 233"
   ]
  },
  {
   "cell_type": "code",
   "execution_count": 31,
   "metadata": {
    "collapsed": false
   },
   "outputs": [],
   "source": [
    "from utility import db_connect, query2csv\n",
    "from settings import  DBNAME, DBPASS, DBUSER, DBHOST\n",
    "\n",
    "qsql=\"\"\"\n",
    "with hrly_233 as (\n",
    "select\n",
    "  baaa.analysis_area_id,\n",
    "  date_trunc('day', bpd.start_time) as date,\n",
    "  to_char(bpd.start_time, 'HH24') as hour,\n",
    "  sum(bpd.volume) as volume\n",
    "from\n",
    "  baa.analysis_areas as baaa \n",
    "    inner join baa_ex_sus.data as bpd \n",
    "      on bpd.flow_detector_id = Any(baaa.flow_detector_list::int[])\n",
    "where \n",
    "  baaa.analysis_area_id = 233       \n",
    "  group by analysis_area_id, bpd.start_time\n",
    "),\n",
    "daily_233 as (\n",
    "select \n",
    "  analysis_area_id,\n",
    "  date_trunc('day', date) as date,\n",
    "  sum(volume) as volume\n",
    "from \n",
    "hrly_233\n",
    "group by analysis_area_id, date_trunc('day', date) \n",
    ")  \n",
    "select * from daily_233\n",
    "order by date\n",
    "\"\"\"\n",
    "csvfile='daily_volume_analysis_areas_233.csv'\n",
    "query2csv(qsql,csvfile)"
   ]
  },
  {
   "cell_type": "markdown",
   "metadata": {},
   "source": [
    "### WWI module\n",
    "- calculate the WWI of an analysis area"
   ]
  },
  {
   "cell_type": "code",
   "execution_count": 15,
   "metadata": {
    "collapsed": true
   },
   "outputs": [],
   "source": [
    "from utility import db_connect, query2csv\n",
    "from settings import  DBNAME, DBPASS, DBUSER, DBHOST\n",
    "\n",
    "def calculate_wwi(analysis_area_id):\n",
    "    query = \"\"\"\n",
    "        with d as (\n",
    "          select generate_series(0,6) as dayofweek\n",
    "        ),\n",
    "        m as (\n",
    "          select generate_series(1,12) as month\n",
    "        ),\n",
    "        hrly as (\n",
    "        select\n",
    "          baaa.analysis_area_id,\n",
    "          date_trunc('day', bpd.start_time) as date,\n",
    "          to_char(bpd.start_time, 'HH24') as hour,\n",
    "          sum(bpd.volume) as volume\n",
    "        from\n",
    "          baa.analysis_areas as baaa \n",
    "            inner join baa_ex_sus.data as bpd \n",
    "            on bpd.flow_detector_id = Any(baaa.flow_detector_list::int[])\n",
    "        where \n",
    "          baaa.analysis_area_id = {0}       \n",
    "          group by analysis_area_id, bpd.start_time\n",
    "        ),\n",
    "        daily as (\n",
    "        select \n",
    "          analysis_area_id,\n",
    "          date_trunc('day', date) as date,\n",
    "          sum(volume) as volume\n",
    "        from \n",
    "        hrly\n",
    "        group by analysis_area_id, date_trunc('day', date) \n",
    "        ) ,\n",
    "        -- v_ijmy:Compute an average by day of week for each month.\n",
    "        v_ijmy as (\n",
    "          select \n",
    "              baadv.analysis_area_id,\n",
    "              to_char(baadv.date, 'YYYY') as year,\n",
    "              avg(baadv.volume)::bigint as volume_i,\n",
    "              avg(baadv.volume) as volume,\n",
    "              d.dayofweek,\n",
    "              m.month\n",
    "          from\n",
    "              daily as baadv,\n",
    "              d,\n",
    "              m\n",
    "          where     \n",
    "              extract(dow from baadv.date) in (d.dayofweek)  \n",
    "              AND date_part('month', baadv.date) = m.month\n",
    "              group by baadv.analysis_area_id, year, d.dayofweek, m.month       \n",
    "        ),\n",
    "        -- madt: average volume each month, each year for sites\n",
    "        madt as (  \n",
    "          select \n",
    "              analysis_area_id,\n",
    "              month,\n",
    "              year,\n",
    "              avg(volume)::bigint as volume_i,\n",
    "              avg(volume) as volume\n",
    "          from \n",
    "              v_ijmy\n",
    "              group by analysis_area_id, year, month\n",
    "              having count(dayofweek)=7 --having 7 days of data each week\n",
    "        ),\n",
    "        AADT as (\n",
    "        select \n",
    "          analysis_area_id, \n",
    "          year,\n",
    "          avg(volume)::bigint as AADT_i,\n",
    "          round(avg(volume), 2) as AADT\n",
    "        from madt\n",
    "          group by analysis_area_id, year\n",
    "          having count(month) = 12 -- having 12 months of data\n",
    "        ),\n",
    "        -- daily_exclude_holiday: daily counts for sites excluding holidays\n",
    "        daily_exclude_holiday as (\n",
    "        select\n",
    "         baaad.analysis_area_id,\n",
    "         baaad.date,\n",
    "         baaad.volume,\n",
    "         date_part('month', baaad.date) as month,\n",
    "         date_part('dow', baaad.date) as dow\n",
    "        from\n",
    "          daily as baaad\n",
    "          left join baa.holidays as baahd \n",
    "            on baaad.date::date = baahd.holiday_date\n",
    "        where\n",
    "          baahd.holiday_id is null\n",
    "          group by 1,2,3\n",
    "        ),\n",
    "        V_jmyl_exclude_holiday as (\n",
    "          select\n",
    "              baadv.analysis_area_id,\n",
    "              to_char(baadv.date, 'YYYY') as year,\n",
    "              avg(baadv.volume) as volume,\n",
    "              d.dayofweek,\n",
    "              m.month\n",
    "          from\n",
    "              daily_exclude_holiday as baadv,\n",
    "              d,\n",
    "              m\n",
    "          where     \n",
    "            extract(dow from baadv.date) in (d.dayofweek)  \n",
    "            AND date_part('month', baadv.date) = m.month\n",
    "            group by baadv.analysis_area_id, year, d.dayofweek, m.month       \n",
    "        ),\n",
    "        -- 84 factors volume count should exclude holiday weeks\n",
    "        factor84 as (\n",
    "        select \n",
    "          v_jmyl_nh.analysis_area_id,\n",
    "          v_jmyl_nh.volume as v_jmyl,\n",
    "          AADT.aadt as aadt,\n",
    "          round(v_jmyl_nh.volume/aadt::numeric, 2) as f_jmys,\n",
    "          v_jmyl_nh.dayofweek,\n",
    "          v_jmyl_nh.month,\n",
    "          v_jmyl_nh.year\n",
    "        from\n",
    "          V_jmyl_exclude_holiday as v_jmyl_nh inner join AADT \n",
    "            using(analysis_area_id, year)\n",
    "        where\n",
    "          AADT.AADT <> 0\n",
    "        ),\n",
    "        -\n",
    "        select wwi,weekly_group from wwi    \n",
    "    \"\"\".format(analysis_area_id)\n",
    "    conn = db_connect()\n",
    "    with conn:\n",
    "        with conn.cursor() as curs:\n",
    "            curs.execute(query)\n",
    "            rows = curs.fetchall()\n",
    "            if rows[0]:\n",
    "                return (rows[0][0], rows[0][1])"
   ]
  },
  {
   "cell_type": "markdown",
   "metadata": {},
   "source": [
    "### Calculate WWI for the just created analysis area 233"
   ]
  },
  {
   "cell_type": "code",
   "execution_count": 21,
   "metadata": {
    "collapsed": false
   },
   "outputs": [
    {
     "name": "stdout",
     "output_type": "stream",
     "text": [
      "WWI for analysis area:233 is 0.87 with \"Weekly Multipurpose\" type\n"
     ]
    }
   ],
   "source": [
    "analysis_area_id = 233\n",
    "wwi = calculate_wwi(analysis_area_id)\n",
    "print ('WWI for analysis area:{0} is {1} with \"{2}\" type'.format(\n",
    "        analysis_area_id, \n",
    "        wwi[0],\n",
    "        wwi[1]))"
   ]
  },
  {
   "cell_type": "markdown",
   "metadata": {},
   "source": [
    "### Compute AMI:\n",
    "- AMI = Average Morning/Midday Index\n",
    "- vh = Average weekday hourly count for hour (h) where hours are given as starting time of the hour\n",
    "\n",
    "#### Grouping via AMI\n",
    "- Hourly groups by Average AMI metric\n",
    "- Hourly Noon Activity: Average AMI <= 0.7 \n",
    "- Hourly Multipurpose: 7< (Average AMI) < =1.4\n",
    "- Hourly Commute: Average AMI > 1.4"
   ]
  },
  {
   "cell_type": "code",
   "execution_count": 22,
   "metadata": {
    "collapsed": true
   },
   "outputs": [],
   "source": [
    "from utility import db_connect, query2csv\n",
    "from settings import  DBNAME, DBPASS, DBUSER, DBHOST\n",
    "\n",
    "def calculate_ami(analysis_area_id):\n",
    "    query = \"\"\"\n",
    "with hrly as (\n",
    " select\n",
    "    baaa.analysis_area_id,\n",
    "    date_trunc('day', bpd.start_time) as date,\n",
    "    to_char(bpd.start_time, 'HH24') as hour,\n",
    "    sum(bpd.volume) as volume \n",
    " from\n",
    "    baa.analysis_areas as baaa \n",
    "    inner join baa_ex_sus.data as bpd \n",
    "      on bpd.flow_detector_id = Any(baaa.flow_detector_list::int[])\n",
    " where \n",
    "     baaa.analysis_area_id = {0}       \n",
    "     group by analysis_area_id, bpd.start_time\n",
    "),\n",
    "v_h_7_8 as (\n",
    "select \n",
    "  baadv.analysis_area_id,\n",
    "  avg(baadv.volume) volume\n",
    "from \n",
    "  hrly as baadv\n",
    "where\n",
    "  baadv.hour in ('07', '08')\n",
    "  and extract(dow from baadv.date) in (1,2,3,4,5)\n",
    "  group by baadv.analysis_area_id\n",
    "  ),\n",
    "  v_h_11_12 as (\n",
    "select \n",
    "  baadv.analysis_area_id,\n",
    "  avg(baadv.volume) volume\n",
    "from \n",
    "  hrly as baadv\n",
    "where\n",
    "  baadv.hour in ('11', '12')\n",
    "  and extract(dow from baadv.date) in (1,2,3,4,5)\n",
    "  group by baadv.analysis_area_id\n",
    "  ),\n",
    "  ami as (\n",
    "  select\n",
    "    vh78.analysis_area_id,\n",
    "    round(vh78.volume, 2) as vh_78,\n",
    "    round(vh1112.volume,2) as vh_11_12,\n",
    "    round(vh78.volume/vh1112.volume, 2) as ami,\n",
    "    case \n",
    "     when (round(vh78.volume/vh1112.volume, 2) <= 0.7) \n",
    "       then 'Hourly Noon Activity'\n",
    "     when (round(vh78.volume/vh1112.volume, 2) >  1.4) \n",
    "       then 'Hourly Commute'\n",
    "     ELSE 'Hourly Multipurpose'\n",
    "  END as hour_group  \n",
    "  from \n",
    "    v_h_7_8 as vh78 inner join v_h_11_12 as vh1112 \n",
    "      using(analysis_area_id)\n",
    "  )\n",
    "  select \n",
    "    ami.analysis_area_id,\n",
    "    baaa.mode,\n",
    "    baaa.analysis_area_name,\n",
    "    ami.vh_78,\n",
    "    ami.vh_11_12,\n",
    "    ami.ami,\n",
    "    ami.hour_group\n",
    "  from\n",
    "   ami inner join baa.analysis_areas as baaa using(analysis_area_id)  \n",
    "   order by 1    \n",
    "    \"\"\".format(analysis_area_id)\n",
    "    conn = db_connect()\n",
    "    with conn:\n",
    "        with conn.cursor() as curs:\n",
    "            curs.execute(query)\n",
    "            rows = curs.fetchall()\n",
    "            if rows[0]:\n",
    "                return (rows[0][5], rows[0][6])"
   ]
  },
  {
   "cell_type": "markdown",
   "metadata": {},
   "source": [
    "### Calculate AMI for the just created analysis area 233"
   ]
  },
  {
   "cell_type": "code",
   "execution_count": 34,
   "metadata": {
    "collapsed": false
   },
   "outputs": [
    {
     "name": "stdout",
     "output_type": "stream",
     "text": [
      "AMI for analysis area:233 is 1.47 with \"Hourly Commute\" type\n"
     ]
    }
   ],
   "source": [
    "analysis_area_id = 233\n",
    "ami = calculate_ami(analysis_area_id)\n",
    "print ('AMI for analysis area:{0} is {1} with \"{2}\" type'.format(\n",
    "        analysis_area_id, \n",
    "        ami[0],\n",
    "        ami[1]))"
   ]
  }
 ],
 "metadata": {
  "kernelspec": {
   "display_name": "Python 3",
   "language": "python",
   "name": "python3"
  },
  "language_info": {
   "codemirror_mode": {
    "name": "ipython",
    "version": 3
   },
   "file_extension": ".py",
   "mimetype": "text/x-python",
   "name": "python",
   "nbconvert_exporter": "python",
   "pygments_lexer": "ipython3",
   "version": "3.4.3"
  }
 },
 "nbformat": 4,
 "nbformat_minor": 1
}
